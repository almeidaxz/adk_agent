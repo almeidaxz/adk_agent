{
  "cells": [
    {
      "cell_type": "code",
      "execution_count": null,
      "metadata": {
        "colab": {
          "base_uri": "https://localhost:8080/"
        },
        "id": "KCEx85WhSNnj",
        "outputId": "0d78aa1b-d374-47bb-97c9-c96af6099d3f"
      },
      "outputs": [
        {
          "name": "stdout",
          "output_type": "stream",
          "text": [
            "Requirement already satisfied: python-dotenv in /usr/local/lib/python3.11/dist-packages (1.1.1)\n"
          ]
        },
        {
          "data": {
            "text/plain": [
              "True"
            ]
          },
          "execution_count": 130,
          "metadata": {},
          "output_type": "execute_result"
        }
      ],
      "source": [
        "!pip install python-dotenv\n",
        "\n",
        "import os\n",
        "from dotenv import load_dotenv\n",
        "from pyspark.sql import SparkSession\n",
        "from pyspark.sql.functions import to_date, date_format, monotonically_increasing_id, year, month, day, dayofmonth, dayofweek, quarter, weekofyear, dayofyear\n",
        "from pyspark.sql.types import IntegerType,BooleanType,DateType\n",
        "from pyspark.sql.functions import regexp_replace\n",
        "from google.cloud.storage import Client, transfer_manager\n",
        "\n",
        "load_dotenv()"
      ]
    },
    {
      "cell_type": "markdown",
      "metadata": {
        "id": "cpUupKW9xKVH"
      },
      "source": [
        "# Download dos arquivos a partir do bucket raw"
      ]
    },
    {
      "cell_type": "code",
      "execution_count": null,
      "metadata": {
        "id": "f1br8ItyxOko"
      },
      "outputs": [],
      "source": [
        "os.environ[\"GOOGLE_APPLICATION_CREDENTIALS\"] = \"credentials/credentials.json\"\n",
        "\n",
        "gcs_client = Client()\n",
        "bucket = gcs_client.bucket(\"fraud-detection-staging-aso\")\n",
        "\n",
        "if not os.path.exists(\"temp\"):\n",
        "  os.makedirs(\"temp\")\n",
        "\n",
        "blob_names = [blob.name for blob in bucket.list_blobs()]\n",
        "\n",
        "results = transfer_manager.download_many_to_path(\n",
        "    bucket, blob_names, destination_directory=\"temp\", max_workers=2\n",
        ")"
      ]
    },
    {
      "cell_type": "markdown",
      "metadata": {
        "id": "WAEIMPa8nia7"
      },
      "source": [
        "## Instanciação do spark (aqui deve ser feita a autenticação com o GCP)"
      ]
    },
    {
      "cell_type": "code",
      "execution_count": null,
      "metadata": {
        "colab": {
          "base_uri": "https://localhost:8080/",
          "height": 373
        },
        "id": "5YEmk-ayngeE",
        "outputId": "d84e1bd7-7057-4cd5-82ab-d9fb64b5830f"
      },
      "outputs": [],
      "source": [
        "from google.colab import auth\n",
        "auth.authenticate_user()\n",
        "\n",
        "spark = SparkSession \\\n",
        "  .builder \\\n",
        "  .config(\"spark.jars\", \"gs://spark-lib/bigquery/spark-3.5-bigquery-0.42.2.jar\") \\\n",
        "  .config(\"spark.hadoop.google.cloud.auth.service.account.enable\", \"true\") \\\n",
        "  .config(\"spark.hadoop.google.cloud.auth.service.account.json.keyfile\", os.getenv(\"GOOGLE_APPLICATION_CREDENTIALS\")) \\\n",
        "  .config(\"temporaryGcsBucket\", os.getenv(\"TEMP_SPARK_BUCKET\")) \\\n",
        "  .getOrCreate()"
      ]
    },
    {
      "cell_type": "markdown",
      "metadata": {
        "id": "hLHZW4v_EyeJ"
      },
      "source": [
        "# Tratamento do `cards_data.csv`"
      ]
    },
    {
      "cell_type": "markdown",
      "metadata": {
        "id": "i9VWo6jHqJkD"
      },
      "source": [
        "Análise exploratória do dataset"
      ]
    },
    {
      "cell_type": "code",
      "execution_count": null,
      "metadata": {
        "colab": {
          "base_uri": "https://localhost:8080/"
        },
        "id": "gO-xbAtITCkJ",
        "outputId": "42d514fa-e5ab-4b32-aa75-cb04b67b43ec"
      },
      "outputs": [
        {
          "name": "stdout",
          "output_type": "stream",
          "text": [
            "+----+---------+----------+---------+----------------+-------+---+--------+----------------+------------+--------------+---------------------+----------------+\n",
            "|  id|client_id|card_brand|card_type|     card_number|expires|cvv|has_chip|num_cards_issued|credit_limit|acct_open_date|year_pin_last_changed|card_on_dark_web|\n",
            "+----+---------+----------+---------+----------------+-------+---+--------+----------------+------------+--------------+---------------------+----------------+\n",
            "|4524|      825|      Visa|    Debit|4344676511950444|12/2022|623|     YES|               2|      $24295|       09/2002|                 2008|              No|\n",
            "|2731|      825|      Visa|    Debit|4956965974959986|12/2020|393|     YES|               2|      $21968|       04/2014|                 2014|              No|\n",
            "|3701|      825|      Visa|    Debit|4582313478255491|02/2024|719|     YES|               2|      $46414|       07/2003|                 2004|              No|\n",
            "+----+---------+----------+---------+----------------+-------+---+--------+----------------+------------+--------------+---------------------+----------------+\n",
            "only showing top 3 rows\n",
            "\n"
          ]
        }
      ],
      "source": [
        "df = spark.read.csv('temp/cards_data.csv', header=True, inferSchema=True)\n",
        "df.show(3)"
      ]
    },
    {
      "cell_type": "code",
      "execution_count": null,
      "metadata": {
        "colab": {
          "base_uri": "https://localhost:8080/"
        },
        "id": "t1bRpl8DTOMx",
        "outputId": "e8d4290a-baa0-4b9d-9081-79df7d65d024"
      },
      "outputs": [
        {
          "name": "stdout",
          "output_type": "stream",
          "text": [
            "root\n",
            " |-- id: integer (nullable = true)\n",
            " |-- client_id: integer (nullable = true)\n",
            " |-- card_brand: string (nullable = true)\n",
            " |-- card_type: string (nullable = true)\n",
            " |-- card_number: long (nullable = true)\n",
            " |-- expires: string (nullable = true)\n",
            " |-- cvv: integer (nullable = true)\n",
            " |-- has_chip: string (nullable = true)\n",
            " |-- num_cards_issued: integer (nullable = true)\n",
            " |-- credit_limit: string (nullable = true)\n",
            " |-- acct_open_date: string (nullable = true)\n",
            " |-- year_pin_last_changed: integer (nullable = true)\n",
            " |-- card_on_dark_web: string (nullable = true)\n",
            "\n"
          ]
        }
      ],
      "source": [
        "df.printSchema()"
      ]
    },
    {
      "cell_type": "code",
      "execution_count": null,
      "metadata": {
        "colab": {
          "base_uri": "https://localhost:8080/"
        },
        "id": "yl-9FoiRu3k0",
        "outputId": "c93dae34-9fb5-480a-88bb-177da626b8b3"
      },
      "outputs": [
        {
          "data": {
            "text/plain": [
              "6146"
            ]
          },
          "execution_count": 135,
          "metadata": {},
          "output_type": "execute_result"
        }
      ],
      "source": [
        "df.count()"
      ]
    },
    {
      "cell_type": "code",
      "execution_count": null,
      "metadata": {
        "colab": {
          "base_uri": "https://localhost:8080/"
        },
        "id": "2cl3tJdgbvlz",
        "outputId": "bec3ce8c-52dc-4b60-8f0a-c6052a5e5579"
      },
      "outputs": [
        {
          "name": "stdout",
          "output_type": "stream",
          "text": [
            "id 0\n",
            "client_id 0\n",
            "card_brand 0\n",
            "card_type 0\n",
            "card_number 0\n",
            "expires 0\n",
            "cvv 0\n",
            "has_chip 0\n",
            "num_cards_issued 0\n",
            "credit_limit 0\n",
            "acct_open_date 0\n",
            "year_pin_last_changed 0\n",
            "card_on_dark_web 0\n"
          ]
        }
      ],
      "source": [
        "for col_name in df.columns:\n",
        "  print(col_name, df.filter(df[col_name].isNull()).count())"
      ]
    },
    {
      "cell_type": "code",
      "execution_count": null,
      "metadata": {
        "colab": {
          "base_uri": "https://localhost:8080/"
        },
        "id": "nR1OAVuVdmgz",
        "outputId": "f347a39b-8a98-47d4-fb92-8f1050505e27"
      },
      "outputs": [
        {
          "name": "stdout",
          "output_type": "stream",
          "text": [
            "+-------+------------------+-----------------+----------+---------------+--------------------+-------+-----------------+--------+------------------+------------+--------------+---------------------+----------------+\n",
            "|summary|                id|        client_id|card_brand|      card_type|         card_number|expires|              cvv|has_chip|  num_cards_issued|credit_limit|acct_open_date|year_pin_last_changed|card_on_dark_web|\n",
            "+-------+------------------+-----------------+----------+---------------+--------------------+-------+-----------------+--------+------------------+------------+--------------+---------------------+----------------+\n",
            "|  count|              6146|             6146|      6146|           6146|                6146|   6146|             6146|    6146|              6146|        6146|          6146|                 6146|            6146|\n",
            "|   mean|            3072.5|994.9396355353075|      NULL|           NULL|4.820425803848972E15|   NULL|506.2207940123658|    NULL|1.5030914415880248|        NULL|          NULL|   2013.4367068011716|            NULL|\n",
            "| stddev|1774.3417089162917|578.6146262379361|      NULL|           NULL|1.328582205754833E15|   NULL|289.4311233505456|    NULL|0.5191909056590772|        NULL|          NULL|    4.270699440328993|            NULL|\n",
            "|    min|                 0|                0|      Amex|         Credit|     300105541992311|01/2002|                0|      NO|                 1|          $0|       01/1991|                 2002|              No|\n",
            "|    max|              6145|             1999|      Visa|Debit (Prepaid)|    6997197066610978|12/2024|              999|     YES|                 3|       $9998|       12/2019|                 2020|              No|\n",
            "+-------+------------------+-----------------+----------+---------------+--------------------+-------+-----------------+--------+------------------+------------+--------------+---------------------+----------------+\n",
            "\n"
          ]
        }
      ],
      "source": [
        "df.describe().show()"
      ]
    },
    {
      "cell_type": "markdown",
      "metadata": {
        "id": "SHNZn7XhqRaw"
      },
      "source": [
        "Drop da coluna sensível CVV e Alteração dos types e formatação de dados com caracteres especiais, para não dar problema na etapa de BI"
      ]
    },
    {
      "cell_type": "code",
      "execution_count": null,
      "metadata": {
        "id": "9n2Ao0oPef_p"
      },
      "outputs": [],
      "source": [
        "df = df.drop('cvv')\n",
        "df = df.withColumn(\"expires\", to_date(df[\"expires\"], \"MM/yyyy\"))\n",
        "df = df.withColumn(\"acct_open_date\", to_date(df[\"acct_open_date\"], \"MM/yyyy\"))\n",
        "df = df.withColumn(\"has_chip\", df[\"has_chip\"].cast(BooleanType()))\n",
        "df = df.withColumn(\"card_on_dark_web\", df[\"card_on_dark_web\"].cast(BooleanType()))\n",
        "df = df.withColumn(\"credit_limit\", regexp_replace(\"credit_limit\", \"\\\\$\", \"\"))\n"
      ]
    },
    {
      "cell_type": "code",
      "execution_count": null,
      "metadata": {
        "colab": {
          "base_uri": "https://localhost:8080/"
        },
        "id": "EUdx8BE6iCeO",
        "outputId": "2a94fabd-cdc7-4cf9-a34e-77b481feec38"
      },
      "outputs": [
        {
          "name": "stdout",
          "output_type": "stream",
          "text": [
            "+----+---------+----------+---------+----------------+----------+--------+----------------+------------+--------------+---------------------+----------------+\n",
            "|  id|client_id|card_brand|card_type|     card_number|   expires|has_chip|num_cards_issued|credit_limit|acct_open_date|year_pin_last_changed|card_on_dark_web|\n",
            "+----+---------+----------+---------+----------------+----------+--------+----------------+------------+--------------+---------------------+----------------+\n",
            "|4524|      825|      Visa|    Debit|4344676511950444|2022-12-01|    true|               2|       24295|    2002-09-01|                 2008|           false|\n",
            "|2731|      825|      Visa|    Debit|4956965974959986|2020-12-01|    true|               2|       21968|    2014-04-01|                 2014|           false|\n",
            "|3701|      825|      Visa|    Debit|4582313478255491|2024-02-01|    true|               2|       46414|    2003-07-01|                 2004|           false|\n",
            "+----+---------+----------+---------+----------------+----------+--------+----------------+------------+--------------+---------------------+----------------+\n",
            "only showing top 3 rows\n",
            "\n"
          ]
        }
      ],
      "source": [
        "df.show(3)"
      ]
    },
    {
      "cell_type": "code",
      "execution_count": null,
      "metadata": {
        "colab": {
          "base_uri": "https://localhost:8080/"
        },
        "id": "K-ufn3INkFfP",
        "outputId": "b455593b-f2c2-4db3-d58e-e76975ca801f"
      },
      "outputs": [
        {
          "name": "stdout",
          "output_type": "stream",
          "text": [
            "root\n",
            " |-- id: integer (nullable = true)\n",
            " |-- client_id: integer (nullable = true)\n",
            " |-- card_brand: string (nullable = true)\n",
            " |-- card_type: string (nullable = true)\n",
            " |-- card_number: long (nullable = true)\n",
            " |-- expires: date (nullable = true)\n",
            " |-- has_chip: boolean (nullable = true)\n",
            " |-- num_cards_issued: integer (nullable = true)\n",
            " |-- credit_limit: string (nullable = true)\n",
            " |-- acct_open_date: date (nullable = true)\n",
            " |-- year_pin_last_changed: integer (nullable = true)\n",
            " |-- card_on_dark_web: boolean (nullable = true)\n",
            "\n"
          ]
        }
      ],
      "source": [
        "df.printSchema()"
      ]
    },
    {
      "cell_type": "code",
      "execution_count": null,
      "metadata": {
        "id": "gwhgnpiPpxIc"
      },
      "outputs": [],
      "source": [
        "df_cards = df\n",
        "df_cards = df.withColumnRenamed(\"id\", \"card_id\")\n",
        "save_path = \"temp/cards_data\"\n",
        "df_cards.coalesce(1).write.mode('overwrite').option(\"header\", True).option(\"delimiter\", \",\").csv(save_path)"
      ]
    },
    {
      "cell_type": "code",
      "execution_count": null,
      "metadata": {
        "colab": {
          "base_uri": "https://localhost:8080/",
          "height": 35
        },
        "id": "3At4876SjVyk",
        "outputId": "9ee8c515-2269-4648-ddd4-30f27b7d95e4"
      },
      "outputs": [
        {
          "data": {
            "application/vnd.google.colaboratory.intrinsic+json": {
              "type": "string"
            },
            "text/plain": [
              "'temp/final_datasets/dim_card.csv'"
            ]
          },
          "execution_count": 142,
          "metadata": {},
          "output_type": "execute_result"
        }
      ],
      "source": [
        "import shutil\n",
        "\n",
        "csv_name = [file for file in os.listdir(save_path) if file.endswith('.csv')][0]\n",
        "final_path = \"temp/final_datasets\"\n",
        "if not os.path.exists(final_path):\n",
        "    os.makedirs(final_path)\n",
        "shutil.move(f\"{save_path}/{csv_name}\", f\"{final_path}/dim_card.csv\")"
      ]
    },
    {
      "cell_type": "markdown",
      "metadata": {
        "id": "SBMHB4g3noNp"
      },
      "source": [
        "# Tratamento do `users_data.csv`"
      ]
    },
    {
      "cell_type": "code",
      "execution_count": null,
      "metadata": {
        "id": "yII-5U6Enr01"
      },
      "outputs": [],
      "source": [
        "df = spark.read.csv('temp/users_data.csv', header=True, inferSchema=True)"
      ]
    },
    {
      "cell_type": "markdown",
      "metadata": {
        "id": "KsMVttr8qfaw"
      },
      "source": [
        "Análise exploratória do dataset"
      ]
    },
    {
      "cell_type": "code",
      "execution_count": null,
      "metadata": {
        "colab": {
          "base_uri": "https://localhost:8080/"
        },
        "id": "SMl9g34Dn36F",
        "outputId": "73c0c2ed-b382-4e17-8fcb-dd8a9142f0e8"
      },
      "outputs": [
        {
          "name": "stdout",
          "output_type": "stream",
          "text": [
            "root\n",
            " |-- id: integer (nullable = true)\n",
            " |-- current_age: integer (nullable = true)\n",
            " |-- retirement_age: integer (nullable = true)\n",
            " |-- birth_year: integer (nullable = true)\n",
            " |-- birth_month: integer (nullable = true)\n",
            " |-- gender: string (nullable = true)\n",
            " |-- address: string (nullable = true)\n",
            " |-- latitude: double (nullable = true)\n",
            " |-- longitude: double (nullable = true)\n",
            " |-- per_capita_income: string (nullable = true)\n",
            " |-- yearly_income: string (nullable = true)\n",
            " |-- total_debt: string (nullable = true)\n",
            " |-- credit_score: integer (nullable = true)\n",
            " |-- num_credit_cards: integer (nullable = true)\n",
            "\n"
          ]
        }
      ],
      "source": [
        "df.printSchema()"
      ]
    },
    {
      "cell_type": "code",
      "execution_count": null,
      "metadata": {
        "colab": {
          "base_uri": "https://localhost:8080/"
        },
        "id": "p8ZErcfVuxzi",
        "outputId": "7b972225-a16b-44d8-fc13-5e323f783090"
      },
      "outputs": [
        {
          "data": {
            "text/plain": [
              "2000"
            ]
          },
          "execution_count": 145,
          "metadata": {},
          "output_type": "execute_result"
        }
      ],
      "source": [
        "df.count()"
      ]
    },
    {
      "cell_type": "code",
      "execution_count": null,
      "metadata": {
        "colab": {
          "base_uri": "https://localhost:8080/"
        },
        "id": "f4QXZcZcn7TN",
        "outputId": "c4b233a2-5d8e-4297-d3f7-00e7bf986a0b"
      },
      "outputs": [
        {
          "name": "stdout",
          "output_type": "stream",
          "text": [
            "id 0\n",
            "current_age 0\n",
            "retirement_age 0\n",
            "birth_year 0\n",
            "birth_month 0\n",
            "gender 0\n",
            "address 0\n",
            "latitude 0\n",
            "longitude 0\n",
            "per_capita_income 0\n",
            "yearly_income 0\n",
            "total_debt 0\n",
            "credit_score 0\n",
            "num_credit_cards 0\n"
          ]
        }
      ],
      "source": [
        "for col_name in df.columns:\n",
        "  print(col_name, df.filter(df[col_name].isNull()).count())"
      ]
    },
    {
      "cell_type": "code",
      "execution_count": null,
      "metadata": {
        "colab": {
          "base_uri": "https://localhost:8080/"
        },
        "id": "beUCbgXioh29",
        "outputId": "e1a77eb3-9e23-4558-ff4a-80d5d1e18228"
      },
      "outputs": [
        {
          "name": "stdout",
          "output_type": "stream",
          "text": [
            "+--------------------+\n",
            "|             address|\n",
            "+--------------------+\n",
            "|       462 Rose Lane|\n",
            "|3606 Federal Boul...|\n",
            "|     766 Third Drive|\n",
            "|    3 Madison Street|\n",
            "|9620 Valley Strea...|\n",
            "|       58 Birch Lane|\n",
            "|   5695 Fifth Street|\n",
            "|   1941 Ninth Street|\n",
            "|    11 Spruce Avenue|\n",
            "|    887 Grant Street|\n",
            "+--------------------+\n",
            "only showing top 10 rows\n",
            "\n"
          ]
        }
      ],
      "source": [
        "df.select('address').show(10)"
      ]
    },
    {
      "cell_type": "markdown",
      "metadata": {
        "id": "1PAICSo1qiIb"
      },
      "source": [
        "Optei por dropar as colunas:\n",
        "- `address`: Por não conter dados significativos para uma possível análise de\n",
        "negócio. Caso possuísse dados como cidade, estado e país, seriam dados muito interessantes de serem mantidos e trabalhados.\n",
        "- `latitude` e `longitude`: Pois, apesar de podermos obter dados significativos a partir deles, geraria um trabalho adicional de conversão dos valores de lat e long em dados de valor."
      ]
    },
    {
      "cell_type": "code",
      "execution_count": null,
      "metadata": {
        "id": "j3--2ZPPon1v"
      },
      "outputs": [],
      "source": [
        "df = df.drop(\"latitude\")\n",
        "df = df.drop(\"longitude\")\n",
        "df = df.drop(\"address\")\n",
        "df = df.withColumn(\"per_capita_income\", regexp_replace(df[\"per_capita_income\"], \"\\\\$\", \"\"))\n",
        "df = df.withColumn(\"yearly_income\", regexp_replace(df[\"yearly_income\"], \"\\\\$\", \"\"))\n",
        "df = df.withColumn(\"total_debt\", regexp_replace(df[\"total_debt\"], \"\\\\$\", \"\"))"
      ]
    },
    {
      "cell_type": "code",
      "execution_count": null,
      "metadata": {
        "colab": {
          "base_uri": "https://localhost:8080/"
        },
        "id": "Pcvcs8_nov5d",
        "outputId": "f398f0ca-284d-4fab-dfc7-5c6030d3104c"
      },
      "outputs": [
        {
          "name": "stdout",
          "output_type": "stream",
          "text": [
            "+----+-----------+--------------+----------+-----------+------+-----------------+-------------+----------+------------+----------------+\n",
            "|  id|current_age|retirement_age|birth_year|birth_month|gender|per_capita_income|yearly_income|total_debt|credit_score|num_credit_cards|\n",
            "+----+-----------+--------------+----------+-----------+------+-----------------+-------------+----------+------------+----------------+\n",
            "| 825|         53|            66|      1966|         11|Female|            29278|        59696|    127613|         787|               5|\n",
            "|1746|         53|            68|      1966|         12|Female|            37891|        77254|    191349|         701|               5|\n",
            "|1718|         81|            67|      1938|         11|Female|            22681|        33483|       196|         698|               5|\n",
            "+----+-----------+--------------+----------+-----------+------+-----------------+-------------+----------+------------+----------------+\n",
            "only showing top 3 rows\n",
            "\n"
          ]
        }
      ],
      "source": [
        "df.show(3)"
      ]
    },
    {
      "cell_type": "code",
      "execution_count": null,
      "metadata": {
        "id": "Q5Mb1hbgp3DK"
      },
      "outputs": [],
      "source": [
        "df_users = df\n",
        "df_users = df_users.withColumnRenamed(\"id\", \"user_id\")\n",
        "save_path = \"temp/users_data\"\n",
        "df_users.coalesce(1).write.mode('overwrite').option(\"header\", True).option(\"delimiter\", \",\").csv(save_path)"
      ]
    },
    {
      "cell_type": "code",
      "execution_count": null,
      "metadata": {
        "colab": {
          "base_uri": "https://localhost:8080/",
          "height": 35
        },
        "id": "gds1LkMPkU0J",
        "outputId": "63731980-fc0a-4b29-dce8-5bd13a916f13"
      },
      "outputs": [
        {
          "data": {
            "application/vnd.google.colaboratory.intrinsic+json": {
              "type": "string"
            },
            "text/plain": [
              "'temp/final_datasets/dim_user.csv'"
            ]
          },
          "execution_count": 151,
          "metadata": {},
          "output_type": "execute_result"
        }
      ],
      "source": [
        "csv_name = [file for file in os.listdir(save_path) if file.endswith('.csv')][0]\n",
        "final_path = \"temp/final_datasets\"\n",
        "if not os.path.exists(final_path):\n",
        "  os.makedirs(final_path)\n",
        "shutil.move(f\"{save_path}/{csv_name}\", f\"{final_path}/dim_user.csv\")"
      ]
    },
    {
      "cell_type": "markdown",
      "metadata": {
        "id": "qZ_4bI1Ep5Ib"
      },
      "source": [
        "# Tratamento do `transactions_data.csv`"
      ]
    },
    {
      "cell_type": "code",
      "execution_count": null,
      "metadata": {
        "colab": {
          "base_uri": "https://localhost:8080/"
        },
        "id": "SOFu2Wqcp49-",
        "outputId": "120dd567-84d4-453f-b810-50cabaf2ae83"
      },
      "outputs": [
        {
          "name": "stdout",
          "output_type": "stream",
          "text": [
            "+---+-------+-------------------+---------+-------+-------+-----------------+-----------+-------------+--------------+-------+----+------+\n",
            "|_c0|     id|               date|client_id|card_id| amount|         use_chip|merchant_id|merchant_city|merchant_state|    zip| mcc|errors|\n",
            "+---+-------+-------------------+---------+-------+-------+-----------------+-----------+-------------+--------------+-------+----+------+\n",
            "|  0|7475327|2010-01-01 00:01:00|     1556|   2972|$-77.00|Swipe Transaction|      59935|       Beulah|            ND|58523.0|5499|  NULL|\n",
            "|  1|7475328|2010-01-01 00:02:00|      561|   4575| $14.57|Swipe Transaction|      67570|   Bettendorf|            IA|52722.0|5311|  NULL|\n",
            "|  2|7475329|2010-01-01 00:02:00|     1129|    102| $80.00|Swipe Transaction|      27092|        Vista|            CA|92084.0|4829|  NULL|\n",
            "+---+-------+-------------------+---------+-------+-------+-----------------+-----------+-------------+--------------+-------+----+------+\n",
            "only showing top 3 rows\n",
            "\n"
          ]
        }
      ],
      "source": [
        "df = spark.read.csv(\"temp/transactions_data.csv\", header=True, inferSchema=True)\n",
        "df.show(3)"
      ]
    },
    {
      "cell_type": "code",
      "execution_count": null,
      "metadata": {
        "id": "SbKOXvU4r1kI"
      },
      "outputs": [],
      "source": [
        "df = df.drop(\"_c0\")"
      ]
    },
    {
      "cell_type": "code",
      "execution_count": null,
      "metadata": {
        "colab": {
          "base_uri": "https://localhost:8080/"
        },
        "id": "QqSkYsZHr9C2",
        "outputId": "386d2e76-030b-4177-d1ed-f78a57ed191d"
      },
      "outputs": [
        {
          "name": "stdout",
          "output_type": "stream",
          "text": [
            "root\n",
            " |-- id: integer (nullable = true)\n",
            " |-- date: timestamp (nullable = true)\n",
            " |-- client_id: integer (nullable = true)\n",
            " |-- card_id: integer (nullable = true)\n",
            " |-- amount: string (nullable = true)\n",
            " |-- use_chip: string (nullable = true)\n",
            " |-- merchant_id: integer (nullable = true)\n",
            " |-- merchant_city: string (nullable = true)\n",
            " |-- merchant_state: string (nullable = true)\n",
            " |-- zip: double (nullable = true)\n",
            " |-- mcc: integer (nullable = true)\n",
            " |-- errors: string (nullable = true)\n",
            "\n"
          ]
        }
      ],
      "source": [
        "df.printSchema()"
      ]
    },
    {
      "cell_type": "code",
      "execution_count": null,
      "metadata": {
        "colab": {
          "base_uri": "https://localhost:8080/"
        },
        "id": "NrzVpMH8u9wo",
        "outputId": "203fa87b-667d-4f09-f581-30410112250a"
      },
      "outputs": [
        {
          "data": {
            "text/plain": [
              "20000"
            ]
          },
          "execution_count": 155,
          "metadata": {},
          "output_type": "execute_result"
        }
      ],
      "source": [
        "df.count()"
      ]
    },
    {
      "cell_type": "code",
      "execution_count": null,
      "metadata": {
        "colab": {
          "base_uri": "https://localhost:8080/"
        },
        "id": "xzGQGswOu8zA",
        "outputId": "8d05df4f-f8a0-40da-c33e-a50abd50dc70"
      },
      "outputs": [
        {
          "name": "stdout",
          "output_type": "stream",
          "text": [
            "id 0\n",
            "date 0\n",
            "client_id 0\n",
            "card_id 0\n",
            "amount 0\n",
            "use_chip 0\n",
            "merchant_id 0\n",
            "merchant_city 0\n",
            "merchant_state 2247\n",
            "zip 2302\n",
            "mcc 0\n",
            "errors 19676\n"
          ]
        }
      ],
      "source": [
        "for col_name in df.columns:\n",
        "  print(col_name, df.filter(df[col_name].isNull()).count())"
      ]
    },
    {
      "cell_type": "markdown",
      "metadata": {
        "id": "gRaER8HBw_2A"
      },
      "source": [
        "Podemos identificar que existem rows onde a coluna `zip` é nula, mesmo possuindo `merchant_state`"
      ]
    },
    {
      "cell_type": "code",
      "execution_count": null,
      "metadata": {
        "colab": {
          "base_uri": "https://localhost:8080/"
        },
        "id": "h8rJuIpAvfxZ",
        "outputId": "51a95187-6534-42f9-c8af-31a0617ed40e"
      },
      "outputs": [
        {
          "name": "stdout",
          "output_type": "stream",
          "text": [
            "+-------+-------------------+---------+-------+-------+-----------------+-----------+---------------+------------------+----+----+------+\n",
            "|     id|               date|client_id|card_id| amount|         use_chip|merchant_id|  merchant_city|    merchant_state| zip| mcc|errors|\n",
            "+-------+-------------------+---------+-------+-------+-----------------+-----------+---------------+------------------+----+----+------+\n",
            "|7476010|2010-01-01 07:53:00|     1579|   3830|  $6.51|Swipe Transaction|      22204|Puerto Vallarta|            Mexico|NULL|5541|  NULL|\n",
            "|7476549|2010-01-01 10:03:00|      363|   5555|  $8.16|Swipe Transaction|      93391|   Vatican City|      Vatican City|NULL|5812|  NULL|\n",
            "|7476704|2010-01-01 10:37:00|      363|   5555| $11.66|Swipe Transaction|      93391|   Vatican City|      Vatican City|NULL|5812|  NULL|\n",
            "|7477375|2010-01-01 12:50:00|     1266|   2478|  $9.77|Swipe Transaction|      22204|    Guadalajara|            Mexico|NULL|5541|  NULL|\n",
            "|7477534|2010-01-01 13:19:00|     1266|   2478| $11.32|Swipe Transaction|      75804|    Guadalajara|            Mexico|NULL|5411|  NULL|\n",
            "|7478204|2010-01-01 16:07:00|      363|   5364| $10.40|Swipe Transaction|      13067|   Vatican City|      Vatican City|NULL|5411|  NULL|\n",
            "|7479335|2010-01-01 22:35:00|      738|    204| $57.80|Swipe Transaction|        246|  Santo Domingo|Dominican Republic|NULL|5812|  NULL|\n",
            "|7479985|2010-01-02 07:43:00|     1579|     11|  $7.38|Swipe Transaction|       7886|Puerto Vallarta|            Mexico|NULL|5812|  NULL|\n",
            "|7480670|2010-01-02 10:51:00|      363|   5555| $11.94|Swipe Transaction|      13067|   Vatican City|      Vatican City|NULL|5411|  NULL|\n",
            "|7481731|2010-01-02 15:02:00|      738|   5774|$119.29|Swipe Transaction|      33820|  Santo Domingo|Dominican Republic|NULL|5912|  NULL|\n",
            "|7481923|2010-01-02 15:53:00|      216|   2063|$-81.00|Swipe Transaction|      61195|       Montreal|            Canada|NULL|5541|  NULL|\n",
            "|7481947|2010-01-02 15:57:00|      216|   2063| $42.08|Swipe Transaction|      61195|       Montreal|            Canada|NULL|5541|  NULL|\n",
            "|7481946|2010-01-02 15:57:00|      216|   2063| $81.00|Swipe Transaction|      61195|       Montreal|            Canada|NULL|5541|  NULL|\n",
            "|7481955|2010-01-02 15:59:00|     1579|     11| $13.23|Swipe Transaction|       1344|Puerto Vallarta|            Mexico|NULL|5411|  NULL|\n",
            "|7482083|2010-01-02 16:34:00|      479|   2186| $56.94|Swipe Transaction|      98648|        Toronto|            Canada|NULL|5814|  NULL|\n",
            "|7483486|2010-01-03 07:00:00|      479|   2186|  $8.34|Swipe Transaction|      45926|        Toronto|            Canada|NULL|5814|  NULL|\n",
            "|7483640|2010-01-03 07:33:00|     1579|   2170|  $2.86|Swipe Transaction|       7886|Puerto Vallarta|            Mexico|NULL|5812|  NULL|\n",
            "|7483705|2010-01-03 07:45:00|     1579|     11| $95.05|Swipe Transaction|      61195|Puerto Vallarta|            Mexico|NULL|5541|  NULL|\n",
            "|7484065|2010-01-03 09:02:00|      363|   5364|  $2.85|Swipe Transaction|      49571|   Vatican City|      Vatican City|NULL|5921|  NULL|\n",
            "|7484139|2010-01-03 09:19:00|      479|   2186|  $6.02|Swipe Transaction|      61195|        Toronto|            Canada|NULL|5541|  NULL|\n",
            "+-------+-------------------+---------+-------+-------+-----------------+-----------+---------------+------------------+----+----+------+\n",
            "only showing top 20 rows\n",
            "\n"
          ]
        }
      ],
      "source": [
        "df.filter((df.merchant_state.isNotNull()) & (df.zip.isNull())).show()"
      ]
    },
    {
      "cell_type": "markdown",
      "metadata": {
        "id": "ghxfAf47xuvx"
      },
      "source": [
        "E que quando a cidade da transação é `\"ONLINE\"`, o state e zip são nulos."
      ]
    },
    {
      "cell_type": "code",
      "execution_count": null,
      "metadata": {
        "colab": {
          "base_uri": "https://localhost:8080/"
        },
        "id": "1rgQbFZZwOQ7",
        "outputId": "a4e69249-d2ba-458d-870b-bf5388b14278"
      },
      "outputs": [
        {
          "name": "stdout",
          "output_type": "stream",
          "text": [
            "+-------+-------------------+---------+-------+-------+------------------+-----------+-------------+--------------+----+----+------+\n",
            "|     id|               date|client_id|card_id| amount|          use_chip|merchant_id|merchant_city|merchant_state| zip| mcc|errors|\n",
            "+-------+-------------------+---------+-------+-------+------------------+-----------+-------------+--------------+----+----+------+\n",
            "|7475335|2010-01-01 00:14:00|     1684|   2140| $26.46|Online Transaction|      39021|       ONLINE|          NULL|NULL|4784|  NULL|\n",
            "|7475336|2010-01-01 00:21:00|      335|   5131|$261.58|Online Transaction|      50292|       ONLINE|          NULL|NULL|7801|  NULL|\n",
            "|7475346|2010-01-01 00:34:00|      394|   4717| $26.04|Online Transaction|      39021|       ONLINE|          NULL|NULL|4784|  NULL|\n",
            "|7475353|2010-01-01 00:43:00|      301|   3742| $10.17|Online Transaction|      39021|       ONLINE|          NULL|NULL|4784|  NULL|\n",
            "|7475356|2010-01-01 00:45:00|      566|   3439| $16.86|Online Transaction|      16798|       ONLINE|          NULL|NULL|4121|  NULL|\n",
            "|7475359|2010-01-01 00:48:00|     1127|   3869| $22.57|Online Transaction|      39021|       ONLINE|          NULL|NULL|4784|  NULL|\n",
            "|7475365|2010-01-01 01:01:00|      820|    127|$270.22|Online Transaction|      73186|       ONLINE|          NULL|NULL|4814|  NULL|\n",
            "|7475367|2010-01-01 01:06:00|     1758|   4686| $87.09|Online Transaction|      17976|       ONLINE|          NULL|NULL|4900|  NULL|\n",
            "|7475372|2010-01-01 01:11:00|      566|   5577| $14.66|Online Transaction|      16798|       ONLINE|          NULL|NULL|4121|  NULL|\n",
            "|7475374|2010-01-01 01:13:00|     1684|     94| $12.67|Online Transaction|      39021|       ONLINE|          NULL|NULL|4784|  NULL|\n",
            "|7475391|2010-01-01 01:41:00|     1087|   1029| $62.98|Online Transaction|      17976|       ONLINE|          NULL|NULL|4900|  NULL|\n",
            "|7475394|2010-01-01 01:46:00|     1575|    224| $34.34|Online Transaction|      16798|       ONLINE|          NULL|NULL|4121|  NULL|\n",
            "|7475401|2010-01-01 01:54:00|     1449|    241|$119.23|Online Transaction|      87530|       ONLINE|          NULL|NULL|4900|  NULL|\n",
            "|7475403|2010-01-01 01:56:00|      760|   5876| $52.98|Online Transaction|      39021|       ONLINE|          NULL|NULL|4784|  NULL|\n",
            "|7475425|2010-01-01 02:16:00|      241|     58| $38.11|Online Transaction|      17976|       ONLINE|          NULL|NULL|4900|  NULL|\n",
            "|7475427|2010-01-01 02:17:00|     1776|   4938| $66.05|Online Transaction|      39021|       ONLINE|          NULL|NULL|4784|  NULL|\n",
            "|7475432|2010-01-01 02:25:00|     1214|   5508| $51.58|Online Transaction|      98436|       ONLINE|          NULL|NULL|5192|  NULL|\n",
            "|7475463|2010-01-01 03:11:00|     1921|   1181| $40.89|Online Transaction|      59350|       ONLINE|          NULL|NULL|7922|  NULL|\n",
            "|7475468|2010-01-01 03:20:00|      121|   5952| $58.47|Online Transaction|      80770|       ONLINE|          NULL|NULL|7922|  NULL|\n",
            "|7475485|2010-01-01 03:57:00|      185|   5361| $15.89|Online Transaction|      39261|       ONLINE|          NULL|NULL|5815|  NULL|\n",
            "+-------+-------------------+---------+-------+-------+------------------+-----------+-------------+--------------+----+----+------+\n",
            "only showing top 20 rows\n",
            "\n"
          ]
        }
      ],
      "source": [
        "df.filter((df.merchant_state.isNull())).show()\n",
        "# df.filter((df.merchant_city == \"ONLINE\") & (df.merchant_state.isNotNull())).show()"
      ]
    },
    {
      "cell_type": "code",
      "execution_count": null,
      "metadata": {
        "colab": {
          "base_uri": "https://localhost:8080/"
        },
        "id": "px0T_tcDGlaW",
        "outputId": "f465fde1-89d6-4c69-c743-9856f51a2bcd"
      },
      "outputs": [
        {
          "data": {
            "text/plain": [
              "324"
            ]
          },
          "execution_count": 159,
          "metadata": {},
          "output_type": "execute_result"
        }
      ],
      "source": [
        "# df.select(\"errors\").show()\n",
        "df.filter(df.errors.isNotNull()).count()"
      ]
    },
    {
      "cell_type": "markdown",
      "metadata": {
        "id": "qECCjucl__KV"
      },
      "source": [
        "Em um cenário real, valeria contatar a área de negócios e entender se essas variáveis são dados importantes, mesmo que nulas. Para este exemplo, optei por excluir as linhas de dados nulos na coluna `merchant_state`, priorizando a demonstração de toda a pipeline em funcionamento. Também optei por dropar a coluna `zip`, já que as variáveis `merchant_city` e `merchant_state` cumprem a função de informar localidade. O mesmo para a variável `errors`, pois apresenta quantidade irrisória de informação no panorama geral (apenas ~2% do dataset original)"
      ]
    },
    {
      "cell_type": "code",
      "execution_count": null,
      "metadata": {
        "id": "yIvWO6-c1zHC"
      },
      "outputs": [],
      "source": [
        "# df.count() # 20.000 - 2247 (null merchant_state)\n",
        "df = df.filter((df.merchant_state.isNotNull()))\n",
        "df = df.drop(\"zip\")\n",
        "df = df.drop(\"errors\")"
      ]
    },
    {
      "cell_type": "code",
      "execution_count": null,
      "metadata": {
        "id": "BeNB6f6Ksd5-"
      },
      "outputs": [],
      "source": [
        "df = df.withColumn(\"amount\", regexp_replace(df[\"amount\"], \"\\\\$\", \"\"))\n",
        "df = df.withColumnRenamed(\"use_chip\", \"transaction_type\")"
      ]
    },
    {
      "cell_type": "code",
      "execution_count": null,
      "metadata": {
        "colab": {
          "base_uri": "https://localhost:8080/"
        },
        "id": "VO_zcazKGMj9",
        "outputId": "610bbba0-7afb-46c3-8c07-67fe62f63e94"
      },
      "outputs": [
        {
          "name": "stdout",
          "output_type": "stream",
          "text": [
            "+-------+-------------------+---------+-------+------+-----------------+-----------+-------------+--------------+----+\n",
            "|     id|               date|client_id|card_id|amount| transaction_type|merchant_id|merchant_city|merchant_state| mcc|\n",
            "+-------+-------------------+---------+-------+------+-----------------+-----------+-------------+--------------+----+\n",
            "|7475327|2010-01-01 00:01:00|     1556|   2972|-77.00|Swipe Transaction|      59935|       Beulah|            ND|5499|\n",
            "|7475328|2010-01-01 00:02:00|      561|   4575| 14.57|Swipe Transaction|      67570|   Bettendorf|            IA|5311|\n",
            "|7475329|2010-01-01 00:02:00|     1129|    102| 80.00|Swipe Transaction|      27092|        Vista|            CA|4829|\n",
            "|7475331|2010-01-01 00:05:00|      430|   2860|200.00|Swipe Transaction|      27092|  Crown Point|            IN|4829|\n",
            "|7475332|2010-01-01 00:06:00|      848|   3915| 46.41|Swipe Transaction|      13051|      Harwood|            MD|5813|\n",
            "+-------+-------------------+---------+-------+------+-----------------+-----------+-------------+--------------+----+\n",
            "only showing top 5 rows\n",
            "\n"
          ]
        }
      ],
      "source": [
        "df.show(5)"
      ]
    },
    {
      "cell_type": "markdown",
      "metadata": {
        "id": "7jHkHO0hIvwv"
      },
      "source": [
        "Seguindo as regras de normalização, optei por extrair os dados de mercador para uma nova tabela, mantendo na tabela fato apenas os dados à ela necessários. Essa mudança facilitará a modelagem no PowerBI (criação de relacionamentos)"
      ]
    },
    {
      "cell_type": "code",
      "execution_count": null,
      "metadata": {
        "id": "gY3uglIyInA2"
      },
      "outputs": [],
      "source": [
        "df_merchant = df.select(\"merchant_id\", \"merchant_city\", \"merchant_state\", \"mcc\")\n",
        "save_path = \"temp/merchant_data\"\n",
        "df_merchant.coalesce(1).write.mode('overwrite').option(\"header\", True).option(\"delimiter\", \",\").csv(save_path)"
      ]
    },
    {
      "cell_type": "code",
      "execution_count": null,
      "metadata": {
        "colab": {
          "base_uri": "https://localhost:8080/",
          "height": 35
        },
        "id": "B3kzkxgSJdjk",
        "outputId": "82067237-72a6-432a-dd03-074869649244"
      },
      "outputs": [
        {
          "data": {
            "application/vnd.google.colaboratory.intrinsic+json": {
              "type": "string"
            },
            "text/plain": [
              "'temp/final_datasets/dim_merchant.csv'"
            ]
          },
          "execution_count": 164,
          "metadata": {},
          "output_type": "execute_result"
        }
      ],
      "source": [
        "csv_name = [file for file in os.listdir(save_path) if file.endswith('.csv')][0]\n",
        "final_path = \"temp/final_datasets\"\n",
        "if not os.path.exists(final_path):\n",
        "  os.makedirs(final_path)\n",
        "\n",
        "shutil.move(f\"{save_path}/{csv_name}\", f\"{final_path}/dim_merchant.csv\")"
      ]
    },
    {
      "cell_type": "code",
      "execution_count": null,
      "metadata": {
        "colab": {
          "base_uri": "https://localhost:8080/"
        },
        "id": "6MPNSLHuv7Tc",
        "outputId": "f374caba-bd55-4f89-c59a-f8eb0f9de038"
      },
      "outputs": [
        {
          "name": "stdout",
          "output_type": "stream",
          "text": [
            "+--------------+-------------------+---------+-------+-----------+-----------------+------+\n",
            "|transaction_id|               date|client_id|card_id|merchant_id| transaction_type|amount|\n",
            "+--------------+-------------------+---------+-------+-----------+-----------------+------+\n",
            "|       7475327|2010-01-01 00:01:00|     1556|   2972|      59935|Swipe Transaction|-77.00|\n",
            "|       7475328|2010-01-01 00:02:00|      561|   4575|      67570|Swipe Transaction| 14.57|\n",
            "|       7475329|2010-01-01 00:02:00|     1129|    102|      27092|Swipe Transaction| 80.00|\n",
            "+--------------+-------------------+---------+-------+-----------+-----------------+------+\n",
            "only showing top 3 rows\n",
            "\n"
          ]
        }
      ],
      "source": [
        "df = df.select(\"id\", \"date\", \"client_id\", \"card_id\", \"merchant_id\", \"transaction_type\", \"amount\")\n",
        "df = df.withColumnRenamed(\"id\", \"transaction_id\")\n",
        "df.show(3)"
      ]
    },
    {
      "cell_type": "markdown",
      "metadata": {
        "id": "AE-WUdzgvjFQ"
      },
      "source": [
        "Seguindo o star schema, optei por criar uma tabela dimensão das datas, para facilitar as análises de negócio de forma temporal."
      ]
    },
    {
      "cell_type": "code",
      "execution_count": null,
      "metadata": {
        "colab": {
          "base_uri": "https://localhost:8080/"
        },
        "id": "U9KpWwLel3Rf",
        "outputId": "46b835cb-53db-4249-89f2-00c240d5dcaf"
      },
      "outputs": [
        {
          "name": "stdout",
          "output_type": "stream",
          "text": [
            "+--------------+-------------------+---------+-------+-----------+-----------------+------+-------+----+-----+----------+---+--------+-----------+------------+-----------+------------+-------+----------+\n",
            "|transaction_id|          full_date|client_id|card_id|merchant_id| transaction_type|amount|date_id|year|month|month_name|day|day_name|day_of_week|day_of_month|day_of_year|week_of_year|quarter|month_year|\n",
            "+--------------+-------------------+---------+-------+-----------+-----------------+------+-------+----+-----+----------+---+--------+-----------+------------+-----------+------------+-------+----------+\n",
            "|       7475327|2010-01-01 00:01:00|     1556|   2972|      59935|Swipe Transaction|-77.00|      1|2010|    1|   January|  1|  Friday|          6|           1|          1|          53|      1|  Jan 2010|\n",
            "|       7475328|2010-01-01 00:02:00|      561|   4575|      67570|Swipe Transaction| 14.57|      2|2010|    1|   January|  1|  Friday|          6|           1|          1|          53|      1|  Jan 2010|\n",
            "|       7475329|2010-01-01 00:02:00|     1129|    102|      27092|Swipe Transaction| 80.00|      3|2010|    1|   January|  1|  Friday|          6|           1|          1|          53|      1|  Jan 2010|\n",
            "|       7475331|2010-01-01 00:05:00|      430|   2860|      27092|Swipe Transaction|200.00|      4|2010|    1|   January|  1|  Friday|          6|           1|          1|          53|      1|  Jan 2010|\n",
            "|       7475332|2010-01-01 00:06:00|      848|   3915|      13051|Swipe Transaction| 46.41|      5|2010|    1|   January|  1|  Friday|          6|           1|          1|          53|      1|  Jan 2010|\n",
            "|       7475333|2010-01-01 00:07:00|     1807|    165|      20519|Swipe Transaction|  4.81|      6|2010|    1|   January|  1|  Friday|          6|           1|          1|          53|      1|  Jan 2010|\n",
            "|       7475334|2010-01-01 00:09:00|     1556|   2972|      59935|Swipe Transaction| 77.00|      7|2010|    1|   January|  1|  Friday|          6|           1|          1|          53|      1|  Jan 2010|\n",
            "|       7475337|2010-01-01 00:21:00|      351|   1112|       3864|Swipe Transaction| 10.74|      8|2010|    1|   January|  1|  Friday|          6|           1|          1|          53|      1|  Jan 2010|\n",
            "|       7475338|2010-01-01 00:23:00|      554|   3912|      67570|Swipe Transaction|  3.51|      9|2010|    1|   January|  1|  Friday|          6|           1|          1|          53|      1|  Jan 2010|\n",
            "|       7475339|2010-01-01 00:23:00|      605|   5061|      75781|Swipe Transaction|  2.58|     10|2010|    1|   January|  1|  Friday|          6|           1|          1|          53|      1|  Jan 2010|\n",
            "|       7475340|2010-01-01 00:26:00|     1556|   2972|      59935|Swipe Transaction| 39.63|     11|2010|    1|   January|  1|  Friday|          6|           1|          1|          53|      1|  Jan 2010|\n",
            "|       7475341|2010-01-01 00:27:00|     1797|   1127|      33326|Swipe Transaction| 43.33|     12|2010|    1|   January|  1|  Friday|          6|           1|          1|          53|      1|  Jan 2010|\n",
            "|       7475342|2010-01-01 00:30:00|      114|   3398|      61195|Swipe Transaction| 49.42|     13|2010|    1|   January|  1|  Friday|          6|           1|          1|          53|      1|  Jan 2010|\n",
            "|       7475343|2010-01-01 00:31:00|     1634|   2464|      20519|Swipe Transaction|  1.09|     14|2010|    1|   January|  1|  Friday|          6|           1|          1|          53|      1|  Jan 2010|\n",
            "|       7475344|2010-01-01 00:32:00|      646|   2093|       1636|Swipe Transaction| 73.79|     15|2010|    1|   January|  1|  Friday|          6|           1|          1|          53|      1|  Jan 2010|\n",
            "|       7475345|2010-01-01 00:32:00|     1129|   5492|      27092|Swipe Transaction|100.00|     16|2010|    1|   January|  1|  Friday|          6|           1|          1|          53|      1|  Jan 2010|\n",
            "|       7475347|2010-01-01 00:36:00|      114|   3398|      61195|Swipe Transaction|-64.00|     17|2010|    1|   January|  1|  Friday|          6|           1|          1|          53|      1|  Jan 2010|\n",
            "|       7475348|2010-01-01 00:36:00|     1376|   2182|      88945|Swipe Transaction| 54.27|     18|2010|    1|   January|  1|  Friday|          6|           1|          1|          53|      1|  Jan 2010|\n",
            "|       7475349|2010-01-01 00:37:00|     1682|    238|      21586|Swipe Transaction| 20.74|     19|2010|    1|   January|  1|  Friday|          6|           1|          1|          53|      1|  Jan 2010|\n",
            "|       7475350|2010-01-01 00:38:00|      114|   3398|      61195|Swipe Transaction| 64.00|     20|2010|    1|   January|  1|  Friday|          6|           1|          1|          53|      1|  Jan 2010|\n",
            "+--------------+-------------------+---------+-------+-----------+-----------------+------+-------+----+-----+----------+---+--------+-----------+------------+-----------+------------+-------+----------+\n",
            "only showing top 20 rows\n",
            "\n"
          ]
        }
      ],
      "source": [
        "df = df.withColumnRenamed(\"date\", \"full_date\")\n",
        "df = df.withColumn(\"date_id\", (monotonically_increasing_id() + 1))\n",
        "df = df.withColumn(\"year\", year(df.full_date).cast(\"int\"))\n",
        "df = df.withColumn(\"month\", month(df.full_date).cast(\"int\"))\n",
        "df = df.withColumn(\"month_name\", date_format(df.full_date, \"MMMM\"))\n",
        "df = df.withColumn(\"day\", day(df.full_date).cast(\"int\"))\n",
        "df = df.withColumn(\"day_name\", date_format(df.full_date, \"EEEE\"))\n",
        "df = df.withColumn(\"day_of_week\", dayofweek(df.full_date).cast(\"int\"))\n",
        "df = df.withColumn(\"day_of_month\", dayofmonth(df.full_date).cast(\"int\"))\n",
        "df = df.withColumn(\"day_of_year\", dayofyear(df.full_date))\n",
        "df = df.withColumn(\"week_of_year\", weekofyear(df.full_date))\n",
        "df = df.withColumn(\"quarter\", quarter(df.full_date).cast(\"int\"))\n",
        "df = df.withColumn(\"month_year\", date_format(df.full_date, \"MMM yyyy\"))\n",
        "df.show()"
      ]
    },
    {
      "cell_type": "code",
      "execution_count": null,
      "metadata": {
        "colab": {
          "base_uri": "https://localhost:8080/"
        },
        "id": "B_lPa0lhuBk_",
        "outputId": "da48f95c-41c1-46d2-9930-3e40576b633d"
      },
      "outputs": [
        {
          "name": "stdout",
          "output_type": "stream",
          "text": [
            "+-------+----+-----+----------+---+--------+-----------+------------+-----------+------------+-------+----------+\n",
            "|date_id|year|month|month_name|day|day_name|day_of_week|day_of_month|day_of_year|week_of_year|quarter|month_year|\n",
            "+-------+----+-----+----------+---+--------+-----------+------------+-----------+------------+-------+----------+\n",
            "|      1|2010|    1|   January|  1|  Friday|          6|           1|          1|          53|      1|  Jan 2010|\n",
            "|      2|2010|    1|   January|  1|  Friday|          6|           1|          1|          53|      1|  Jan 2010|\n",
            "|      3|2010|    1|   January|  1|  Friday|          6|           1|          1|          53|      1|  Jan 2010|\n",
            "+-------+----+-----+----------+---+--------+-----------+------------+-----------+------------+-------+----------+\n",
            "only showing top 3 rows\n",
            "\n"
          ]
        }
      ],
      "source": [
        "df_date = df.select(\"date_id\", \"year\", \"month\", \"month_name\", \"day\", \"day_name\", \"day_of_week\", \"day_of_month\", \"day_of_year\", \"week_of_year\", \"quarter\", \"month_year\")\n",
        "df_date.show(3)\n",
        "\n",
        "save_path = \"temp/date_data\"\n",
        "df_date.coalesce(1).write.mode('overwrite').option(\"header\", True).option(\"delimiter\", \",\").csv(save_path)"
      ]
    },
    {
      "cell_type": "code",
      "execution_count": null,
      "metadata": {
        "colab": {
          "base_uri": "https://localhost:8080/",
          "height": 35
        },
        "id": "OM-gko6_2VrQ",
        "outputId": "8e805802-2060-4ee1-bd00-bfc0f9e2eca0"
      },
      "outputs": [
        {
          "data": {
            "application/vnd.google.colaboratory.intrinsic+json": {
              "type": "string"
            },
            "text/plain": [
              "'temp/final_datasets/dim_date.csv'"
            ]
          },
          "execution_count": 168,
          "metadata": {},
          "output_type": "execute_result"
        }
      ],
      "source": [
        "csv_name = [file for file in os.listdir(save_path) if file.endswith('.csv')][0]\n",
        "final_path = \"temp/final_datasets\"\n",
        "if not os.path.exists(final_path):\n",
        "  os.makedirs(final_path)\n",
        "\n",
        "shutil.move(f\"{save_path}/{csv_name}\", f\"{final_path}/dim_date.csv\")"
      ]
    },
    {
      "cell_type": "code",
      "execution_count": null,
      "metadata": {
        "colab": {
          "base_uri": "https://localhost:8080/"
        },
        "id": "P7rfYndEsXXq",
        "outputId": "bffb9876-c93e-4e71-cc2e-22c0fa7b1378"
      },
      "outputs": [
        {
          "name": "stdout",
          "output_type": "stream",
          "text": [
            "+--------------+---------+-------+-----------+-----------------+------+-------+\n",
            "|transaction_id|client_id|card_id|merchant_id| transaction_type|amount|date_id|\n",
            "+--------------+---------+-------+-----------+-----------------+------+-------+\n",
            "|       7475327|     1556|   2972|      59935|Swipe Transaction|-77.00|      1|\n",
            "|       7475328|      561|   4575|      67570|Swipe Transaction| 14.57|      2|\n",
            "|       7475329|     1129|    102|      27092|Swipe Transaction| 80.00|      3|\n",
            "+--------------+---------+-------+-----------+-----------------+------+-------+\n",
            "only showing top 3 rows\n",
            "\n"
          ]
        }
      ],
      "source": [
        "df = df.drop(\"full_date\", \"year\", \"month\", \"month_name\", \"day\", \"day_name\", \"day_of_week\", \"day_of_month\", \"day_of_year\", \"week_of_year\", \"quarter\", \"month_year\")\n",
        "df.show(3)"
      ]
    },
    {
      "cell_type": "markdown",
      "metadata": {
        "id": "OuEWj11d0aYN"
      },
      "source": [
        "Por fim, verifico se houveram casos de registros que contém algum relacionamento nulo"
      ]
    },
    {
      "cell_type": "code",
      "execution_count": null,
      "metadata": {
        "colab": {
          "base_uri": "https://localhost:8080/"
        },
        "id": "NKw25YkY3KkL",
        "outputId": "ce79a449-7969-4461-accd-aaa36395dea5"
      },
      "outputs": [
        {
          "data": {
            "text/plain": [
              "0"
            ]
          },
          "execution_count": 170,
          "metadata": {},
          "output_type": "execute_result"
        }
      ],
      "source": [
        "df.alias(\"t\") \\\n",
        "    .join(df_users.alias(\"u\"), df[\"client_id\"] == df_users[\"user_id\"], \"left_anti\") \\\n",
        "    .count() # 0"
      ]
    },
    {
      "cell_type": "code",
      "execution_count": null,
      "metadata": {
        "colab": {
          "base_uri": "https://localhost:8080/"
        },
        "id": "HuZHKYhf3btE",
        "outputId": "e9945761-d908-4487-e77c-10d9fed02895"
      },
      "outputs": [
        {
          "data": {
            "text/plain": [
              "0"
            ]
          },
          "execution_count": 171,
          "metadata": {},
          "output_type": "execute_result"
        }
      ],
      "source": [
        "df.alias(\"t\") \\\n",
        "    .join(df_cards.alias(\"c\"), df[\"card_id\"] == df_cards[\"card_id\"], \"left_anti\") \\\n",
        "    .count() # 0"
      ]
    },
    {
      "cell_type": "code",
      "execution_count": null,
      "metadata": {
        "colab": {
          "base_uri": "https://localhost:8080/"
        },
        "id": "-e0XQbep3hpc",
        "outputId": "e7e30e4f-6634-4dcc-9c3f-edca6f369649"
      },
      "outputs": [
        {
          "data": {
            "text/plain": [
              "0"
            ]
          },
          "execution_count": 172,
          "metadata": {},
          "output_type": "execute_result"
        }
      ],
      "source": [
        "df.alias(\"t\") \\\n",
        "    .join(df_merchant.alias(\"m\"), df[\"merchant_id\"] == df_merchant[\"merchant_id\"], \"left_anti\") \\\n",
        "    .count() #0"
      ]
    },
    {
      "cell_type": "code",
      "execution_count": null,
      "metadata": {
        "colab": {
          "base_uri": "https://localhost:8080/"
        },
        "id": "DJfallDj3pV-",
        "outputId": "0d1eec96-0b1e-4642-8d6a-1a176c510cdb"
      },
      "outputs": [
        {
          "data": {
            "text/plain": [
              "0"
            ]
          },
          "execution_count": 173,
          "metadata": {},
          "output_type": "execute_result"
        }
      ],
      "source": [
        "df.alias(\"t\") \\\n",
        "    .join(df_date.alias(\"d\"), df[\"date_id\"] == df_date[\"date_id\"], \"left_anti\") \\\n",
        "    .count() #0"
      ]
    },
    {
      "cell_type": "code",
      "execution_count": null,
      "metadata": {
        "colab": {
          "base_uri": "https://localhost:8080/",
          "height": 35
        },
        "id": "Zalex__M4UQP",
        "outputId": "ee62cd4a-05a5-4227-9b79-d561bd368ce3"
      },
      "outputs": [
        {
          "data": {
            "application/vnd.google.colaboratory.intrinsic+json": {
              "type": "string"
            },
            "text/plain": [
              "'temp/final_datasets/fact_transaction.csv'"
            ]
          },
          "execution_count": 174,
          "metadata": {},
          "output_type": "execute_result"
        }
      ],
      "source": [
        "df_transactions = df.drop(\"client_id\")\n",
        "save_path = \"temp/transaction_data\"\n",
        "df.coalesce(1).write.mode('overwrite').option(\"header\", True).option(\"delimiter\", \",\").csv(save_path)\n",
        "\n",
        "csv_name = [file for file in os.listdir(save_path) if file.endswith('.csv')][0]\n",
        "final_path = \"temp/final_datasets\"\n",
        "if not os.path.exists(final_path):\n",
        "  os.makedirs(final_path)\n",
        "\n",
        "shutil.move(f\"{save_path}/{csv_name}\", f\"{final_path}/fact_transaction.csv\")"
      ]
    },
    {
      "cell_type": "markdown",
      "metadata": {
        "id": "RCQZ91B9uPJ5"
      },
      "source": [
        "## Load to BigQuery"
      ]
    },
    {
      "cell_type": "code",
      "execution_count": null,
      "metadata": {
        "colab": {
          "base_uri": "https://localhost:8080/",
          "height": 1000
        },
        "id": "Ly27AH3TujuI",
        "outputId": "e2758e06-07c2-4ae9-ce61-862fbf6bb389"
      },
      "outputs": [],
      "source": [
        "dataset_name = os.getenv(\"DATASET_NAME\")\n",
        "project_id = os.getenv(\"PROJECT_ID\")\n",
        "temp_spark_bucket = os.getenv(\"TEMP_SPARK_BUCKET\")\n",
        "\n",
        "df_list = [df_transactions, df_users, df_merchant, df_cards, df_date]\n",
        "df_names = [\"fact_transaction\", \"dim_user\", \"dim_merchant\", \"dim_card\", \"dim_date\"]\n",
        "for df, name in zip(df_list, df_names):\n",
        "  df.write \\\n",
        "  .format(\"bigquery\") \\\n",
        "  .option(\"temporaryGcsBucket\", temp_spark_bucket) \\\n",
        "  .option(\"table\", f\"{project_id}.{dataset_name}.{name}\") \\\n",
        "  .mode(\"overwrite\") \\\n",
        "  .save()"
      ]
    }
  ],
  "metadata": {
    "colab": {
      "provenance": []
    },
    "kernelspec": {
      "display_name": "Python 3",
      "name": "python3"
    },
    "language_info": {
      "name": "python"
    }
  },
  "nbformat": 4,
  "nbformat_minor": 0
}
